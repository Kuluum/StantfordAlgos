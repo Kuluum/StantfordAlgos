{
 "cells": [
  {
   "cell_type": "code",
   "execution_count": 1,
   "metadata": {},
   "outputs": [],
   "source": [
    "import networkx as nx"
   ]
  },
  {
   "cell_type": "code",
   "execution_count": 12,
   "metadata": {},
   "outputs": [],
   "source": [
    "def process(filename):\n",
    "    file = open(filename, \"r\")\n",
    "    literalCount = int( file.readline() )\n",
    "    print(literalCount)\n",
    "    clauses = []\n",
    "    for i in range(literalCount):\n",
    "        clauseLiteralsInfo = file.readline().split()\n",
    "        clause = [int(clauseLiteralsInfo[0]), int(clauseLiteralsInfo[1])]\n",
    "        clauses.append(clause)\n",
    "\n",
    "    G=nx.DiGraph()\n",
    "    G.add_nodes_from(list(range(1, literalCount + 1)) + list(range(-literalCount, 0)))\n",
    "\n",
    "    for clause in clauses:\n",
    "        G.add_edge(-clause[0], clause[1])\n",
    "        G.add_edge(-clause[1], clause[0])\n",
    "\n",
    "    #print \"Graph creation for %s completed\" % filename\n",
    "\n",
    "    components = nx.strongly_connected_components(G)\n",
    "\n",
    "    #print \"Calculation of SSC for %s completed\" % filename\n",
    "\n",
    "    isSatisfiable = True\n",
    "    for component in filter(lambda component : len(component) > 1, components):\n",
    "        isSatisfiableComponent = True\n",
    "        vertexes = set()\n",
    "        for vertex in component:\n",
    "            if -vertex in vertexes:\n",
    "                isSatisfiableComponent = False\n",
    "                break\n",
    "            vertexes.add(vertex)\n",
    "        if not isSatisfiableComponent:\n",
    "            isSatisfiable = False\n",
    "            break\n",
    "\n",
    "    print(\"%s satisfiable result: %s\" % (filename, isSatisfiable))\n",
    "    return isSatisfiable"
   ]
  },
  {
   "cell_type": "code",
   "execution_count": 18,
   "metadata": {},
   "outputs": [
    {
     "name": "stdout",
     "output_type": "stream",
     "text": [
      "1000000\n",
      "2SAT6.txt satisfiable result: False\n"
     ]
    },
    {
     "data": {
      "text/plain": [
       "False"
      ]
     },
     "execution_count": 18,
     "metadata": {},
     "output_type": "execute_result"
    }
   ],
   "source": [
    "process(\"2SAT6.txt\")"
   ]
  },
  {
   "cell_type": "code",
   "execution_count": null,
   "metadata": {},
   "outputs": [],
   "source": []
  }
 ],
 "metadata": {
  "kernelspec": {
   "display_name": "Python 3",
   "language": "python",
   "name": "python3"
  },
  "language_info": {
   "codemirror_mode": {
    "name": "ipython",
    "version": 3
   },
   "file_extension": ".py",
   "mimetype": "text/x-python",
   "name": "python",
   "nbconvert_exporter": "python",
   "pygments_lexer": "ipython3",
   "version": "3.7.3"
  }
 },
 "nbformat": 4,
 "nbformat_minor": 2
}
